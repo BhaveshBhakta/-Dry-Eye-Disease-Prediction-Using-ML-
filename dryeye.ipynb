{
 "cells": [
  {
   "cell_type": "markdown",
   "metadata": {},
   "source": [
    "# Dry Eye Disease Prediction"
   ]
  },
  {
   "cell_type": "markdown",
   "metadata": {},
   "source": [
    "## Data Loading"
   ]
  },
  {
   "cell_type": "code",
   "execution_count": 19,
   "metadata": {},
   "outputs": [
    {
     "name": "stdout",
     "output_type": "stream",
     "text": [
      "Dataset URL: https://www.kaggle.com/datasets/dakshnagra/dry-eye-disease\n",
      "License(s): DbCL-1.0\n",
      "Downloading dry-eye-disease.zip to /home/bhxveshhh/ML/Thyroid Disease Prediction\n",
      "100%|█████████████████████████████████████████| 418k/418k [00:01<00:00, 336kB/s]\n",
      "100%|█████████████████████████████████████████| 418k/418k [00:01<00:00, 336kB/s]\n"
     ]
    }
   ],
   "source": [
    "# Importing dataset via kaggle\n",
    "\n",
    "!kaggle datasets download -d dakshnagra/dry-eye-disease"
   ]
  },
  {
   "cell_type": "code",
   "execution_count": 3,
   "metadata": {},
   "outputs": [],
   "source": [
    "# Exporting dataset from zipfile\n",
    "\n",
    "import zipfile\n",
    "zip_ref = zipfile.ZipFile('/home/bhxveshhh/ML/Dry Eye Disease Prediction/dry-eye-disease.zip', 'r')\n",
    "zip_ref.extractall('/home/bhxveshhh/ML/Dry Eye Disease Prediction')\n",
    "zip_ref.close()"
   ]
  },
  {
   "cell_type": "markdown",
   "metadata": {},
   "source": [
    "## Exploratory Data Analysis"
   ]
  },
  {
   "cell_type": "code",
   "execution_count": 4,
   "metadata": {},
   "outputs": [],
   "source": [
    "import pandas as pd\n",
    "import numpy as np\n",
    "import seaborn as sns\n",
    "import matplotlib.pyplot as plt\n",
    "\n",
    "import warnings\n",
    "warnings.filterwarnings('ignore')"
   ]
  },
  {
   "cell_type": "code",
   "execution_count": 5,
   "metadata": {},
   "outputs": [],
   "source": [
    "df = pd.read_csv('Dry_Eye_Dataset.csv')"
   ]
  },
  {
   "cell_type": "code",
   "execution_count": 6,
   "metadata": {},
   "outputs": [
    {
     "data": {
      "text/html": [
       "<div>\n",
       "<style scoped>\n",
       "    .dataframe tbody tr th:only-of-type {\n",
       "        vertical-align: middle;\n",
       "    }\n",
       "\n",
       "    .dataframe tbody tr th {\n",
       "        vertical-align: top;\n",
       "    }\n",
       "\n",
       "    .dataframe thead th {\n",
       "        text-align: right;\n",
       "    }\n",
       "</style>\n",
       "<table border=\"1\" class=\"dataframe\">\n",
       "  <thead>\n",
       "    <tr style=\"text-align: right;\">\n",
       "      <th></th>\n",
       "      <th>Gender</th>\n",
       "      <th>Age</th>\n",
       "      <th>Sleep duration</th>\n",
       "      <th>Sleep quality</th>\n",
       "      <th>Stress level</th>\n",
       "      <th>Blood pressure</th>\n",
       "      <th>Heart rate</th>\n",
       "      <th>Daily steps</th>\n",
       "      <th>Physical activity</th>\n",
       "      <th>Height</th>\n",
       "      <th>...</th>\n",
       "      <th>Smoking</th>\n",
       "      <th>Medical issue</th>\n",
       "      <th>Ongoing medication</th>\n",
       "      <th>Smart device before bed</th>\n",
       "      <th>Average screen time</th>\n",
       "      <th>Blue-light filter</th>\n",
       "      <th>Discomfort Eye-strain</th>\n",
       "      <th>Redness in eye</th>\n",
       "      <th>Itchiness/Irritation in eye</th>\n",
       "      <th>Dry Eye Disease</th>\n",
       "    </tr>\n",
       "  </thead>\n",
       "  <tbody>\n",
       "    <tr>\n",
       "      <th>0</th>\n",
       "      <td>F</td>\n",
       "      <td>24</td>\n",
       "      <td>9.5</td>\n",
       "      <td>2</td>\n",
       "      <td>1</td>\n",
       "      <td>137/89</td>\n",
       "      <td>67</td>\n",
       "      <td>3000</td>\n",
       "      <td>31</td>\n",
       "      <td>161</td>\n",
       "      <td>...</td>\n",
       "      <td>N</td>\n",
       "      <td>Y</td>\n",
       "      <td>Y</td>\n",
       "      <td>N</td>\n",
       "      <td>8.7</td>\n",
       "      <td>N</td>\n",
       "      <td>Y</td>\n",
       "      <td>Y</td>\n",
       "      <td>N</td>\n",
       "      <td>Y</td>\n",
       "    </tr>\n",
       "    <tr>\n",
       "      <th>1</th>\n",
       "      <td>M</td>\n",
       "      <td>39</td>\n",
       "      <td>9.6</td>\n",
       "      <td>2</td>\n",
       "      <td>3</td>\n",
       "      <td>108/64</td>\n",
       "      <td>60</td>\n",
       "      <td>12000</td>\n",
       "      <td>74</td>\n",
       "      <td>164</td>\n",
       "      <td>...</td>\n",
       "      <td>N</td>\n",
       "      <td>Y</td>\n",
       "      <td>Y</td>\n",
       "      <td>N</td>\n",
       "      <td>9.6</td>\n",
       "      <td>Y</td>\n",
       "      <td>N</td>\n",
       "      <td>N</td>\n",
       "      <td>Y</td>\n",
       "      <td>Y</td>\n",
       "    </tr>\n",
       "    <tr>\n",
       "      <th>2</th>\n",
       "      <td>F</td>\n",
       "      <td>45</td>\n",
       "      <td>5.4</td>\n",
       "      <td>1</td>\n",
       "      <td>5</td>\n",
       "      <td>134/81</td>\n",
       "      <td>95</td>\n",
       "      <td>12000</td>\n",
       "      <td>93</td>\n",
       "      <td>179</td>\n",
       "      <td>...</td>\n",
       "      <td>N</td>\n",
       "      <td>N</td>\n",
       "      <td>N</td>\n",
       "      <td>Y</td>\n",
       "      <td>4.0</td>\n",
       "      <td>N</td>\n",
       "      <td>Y</td>\n",
       "      <td>N</td>\n",
       "      <td>N</td>\n",
       "      <td>N</td>\n",
       "    </tr>\n",
       "    <tr>\n",
       "      <th>3</th>\n",
       "      <td>F</td>\n",
       "      <td>45</td>\n",
       "      <td>5.4</td>\n",
       "      <td>4</td>\n",
       "      <td>5</td>\n",
       "      <td>110/90</td>\n",
       "      <td>78</td>\n",
       "      <td>19000</td>\n",
       "      <td>32</td>\n",
       "      <td>160</td>\n",
       "      <td>...</td>\n",
       "      <td>N</td>\n",
       "      <td>Y</td>\n",
       "      <td>N</td>\n",
       "      <td>N</td>\n",
       "      <td>7.6</td>\n",
       "      <td>N</td>\n",
       "      <td>Y</td>\n",
       "      <td>N</td>\n",
       "      <td>Y</td>\n",
       "      <td>N</td>\n",
       "    </tr>\n",
       "    <tr>\n",
       "      <th>4</th>\n",
       "      <td>F</td>\n",
       "      <td>42</td>\n",
       "      <td>5.7</td>\n",
       "      <td>3</td>\n",
       "      <td>2</td>\n",
       "      <td>99/67</td>\n",
       "      <td>72</td>\n",
       "      <td>4000</td>\n",
       "      <td>173</td>\n",
       "      <td>179</td>\n",
       "      <td>...</td>\n",
       "      <td>N</td>\n",
       "      <td>Y</td>\n",
       "      <td>N</td>\n",
       "      <td>N</td>\n",
       "      <td>3.5</td>\n",
       "      <td>N</td>\n",
       "      <td>Y</td>\n",
       "      <td>Y</td>\n",
       "      <td>N</td>\n",
       "      <td>Y</td>\n",
       "    </tr>\n",
       "  </tbody>\n",
       "</table>\n",
       "<p>5 rows × 26 columns</p>\n",
       "</div>"
      ],
      "text/plain": [
       "  Gender  Age  Sleep duration  Sleep quality  Stress level Blood pressure  \\\n",
       "0      F   24             9.5              2             1         137/89   \n",
       "1      M   39             9.6              2             3         108/64   \n",
       "2      F   45             5.4              1             5         134/81   \n",
       "3      F   45             5.4              4             5         110/90   \n",
       "4      F   42             5.7              3             2          99/67   \n",
       "\n",
       "   Heart rate  Daily steps  Physical activity  Height  ...  Smoking  \\\n",
       "0          67         3000                 31     161  ...        N   \n",
       "1          60        12000                 74     164  ...        N   \n",
       "2          95        12000                 93     179  ...        N   \n",
       "3          78        19000                 32     160  ...        N   \n",
       "4          72         4000                173     179  ...        N   \n",
       "\n",
       "  Medical issue Ongoing medication Smart device before bed  \\\n",
       "0             Y                  Y                       N   \n",
       "1             Y                  Y                       N   \n",
       "2             N                  N                       Y   \n",
       "3             Y                  N                       N   \n",
       "4             Y                  N                       N   \n",
       "\n",
       "  Average screen time Blue-light filter Discomfort Eye-strain Redness in eye  \\\n",
       "0                 8.7                 N                     Y              Y   \n",
       "1                 9.6                 Y                     N              N   \n",
       "2                 4.0                 N                     Y              N   \n",
       "3                 7.6                 N                     Y              N   \n",
       "4                 3.5                 N                     Y              Y   \n",
       "\n",
       "  Itchiness/Irritation in eye Dry Eye Disease  \n",
       "0                           N               Y  \n",
       "1                           Y               Y  \n",
       "2                           N               N  \n",
       "3                           Y               N  \n",
       "4                           N               Y  \n",
       "\n",
       "[5 rows x 26 columns]"
      ]
     },
     "execution_count": 6,
     "metadata": {},
     "output_type": "execute_result"
    }
   ],
   "source": [
    "df.head(5)"
   ]
  },
  {
   "cell_type": "code",
   "execution_count": 7,
   "metadata": {},
   "outputs": [
    {
     "data": {
      "text/plain": [
       "(20000, 26)"
      ]
     },
     "execution_count": 7,
     "metadata": {},
     "output_type": "execute_result"
    }
   ],
   "source": [
    "df.shape"
   ]
  },
  {
   "cell_type": "code",
   "execution_count": 8,
   "metadata": {},
   "outputs": [
    {
     "data": {
      "text/plain": [
       "520000"
      ]
     },
     "execution_count": 8,
     "metadata": {},
     "output_type": "execute_result"
    }
   ],
   "source": [
    "df.size"
   ]
  },
  {
   "cell_type": "code",
   "execution_count": 9,
   "metadata": {},
   "outputs": [
    {
     "name": "stdout",
     "output_type": "stream",
     "text": [
      "<class 'pandas.core.frame.DataFrame'>\n",
      "RangeIndex: 20000 entries, 0 to 19999\n",
      "Data columns (total 26 columns):\n",
      " #   Column                       Non-Null Count  Dtype  \n",
      "---  ------                       --------------  -----  \n",
      " 0   Gender                       20000 non-null  object \n",
      " 1   Age                          20000 non-null  int64  \n",
      " 2   Sleep duration               20000 non-null  float64\n",
      " 3   Sleep quality                20000 non-null  int64  \n",
      " 4   Stress level                 20000 non-null  int64  \n",
      " 5   Blood pressure               20000 non-null  object \n",
      " 6   Heart rate                   20000 non-null  int64  \n",
      " 7   Daily steps                  20000 non-null  int64  \n",
      " 8   Physical activity            20000 non-null  int64  \n",
      " 9   Height                       20000 non-null  int64  \n",
      " 10  Weight                       20000 non-null  int64  \n",
      " 11  Sleep disorder               20000 non-null  object \n",
      " 12  Wake up during night         20000 non-null  object \n",
      " 13  Feel sleepy during day       20000 non-null  object \n",
      " 14  Caffeine consumption         20000 non-null  object \n",
      " 15  Alcohol consumption          20000 non-null  object \n",
      " 16  Smoking                      20000 non-null  object \n",
      " 17  Medical issue                20000 non-null  object \n",
      " 18  Ongoing medication           20000 non-null  object \n",
      " 19  Smart device before bed      20000 non-null  object \n",
      " 20  Average screen time          20000 non-null  float64\n",
      " 21  Blue-light filter            20000 non-null  object \n",
      " 22  Discomfort Eye-strain        20000 non-null  object \n",
      " 23  Redness in eye               20000 non-null  object \n",
      " 24  Itchiness/Irritation in eye  20000 non-null  object \n",
      " 25  Dry Eye Disease              20000 non-null  object \n",
      "dtypes: float64(2), int64(8), object(16)\n",
      "memory usage: 4.0+ MB\n"
     ]
    }
   ],
   "source": [
    "df.info()"
   ]
  },
  {
   "cell_type": "code",
   "execution_count": 10,
   "metadata": {},
   "outputs": [
    {
     "data": {
      "text/html": [
       "<div>\n",
       "<style scoped>\n",
       "    .dataframe tbody tr th:only-of-type {\n",
       "        vertical-align: middle;\n",
       "    }\n",
       "\n",
       "    .dataframe tbody tr th {\n",
       "        vertical-align: top;\n",
       "    }\n",
       "\n",
       "    .dataframe thead th {\n",
       "        text-align: right;\n",
       "    }\n",
       "</style>\n",
       "<table border=\"1\" class=\"dataframe\">\n",
       "  <thead>\n",
       "    <tr style=\"text-align: right;\">\n",
       "      <th></th>\n",
       "      <th>count</th>\n",
       "      <th>mean</th>\n",
       "      <th>std</th>\n",
       "      <th>min</th>\n",
       "      <th>25%</th>\n",
       "      <th>50%</th>\n",
       "      <th>75%</th>\n",
       "      <th>max</th>\n",
       "    </tr>\n",
       "  </thead>\n",
       "  <tbody>\n",
       "    <tr>\n",
       "      <th>Age</th>\n",
       "      <td>20000.0</td>\n",
       "      <td>31.422800</td>\n",
       "      <td>8.103717</td>\n",
       "      <td>18.0</td>\n",
       "      <td>24.0</td>\n",
       "      <td>31.0</td>\n",
       "      <td>39.0</td>\n",
       "      <td>45.0</td>\n",
       "    </tr>\n",
       "    <tr>\n",
       "      <th>Sleep duration</th>\n",
       "      <td>20000.0</td>\n",
       "      <td>6.998245</td>\n",
       "      <td>1.731723</td>\n",
       "      <td>4.0</td>\n",
       "      <td>5.5</td>\n",
       "      <td>7.0</td>\n",
       "      <td>8.5</td>\n",
       "      <td>10.0</td>\n",
       "    </tr>\n",
       "    <tr>\n",
       "      <th>Sleep quality</th>\n",
       "      <td>20000.0</td>\n",
       "      <td>2.997250</td>\n",
       "      <td>1.412283</td>\n",
       "      <td>1.0</td>\n",
       "      <td>2.0</td>\n",
       "      <td>3.0</td>\n",
       "      <td>4.0</td>\n",
       "      <td>5.0</td>\n",
       "    </tr>\n",
       "    <tr>\n",
       "      <th>Stress level</th>\n",
       "      <td>20000.0</td>\n",
       "      <td>2.993750</td>\n",
       "      <td>1.407235</td>\n",
       "      <td>1.0</td>\n",
       "      <td>2.0</td>\n",
       "      <td>3.0</td>\n",
       "      <td>4.0</td>\n",
       "      <td>5.0</td>\n",
       "    </tr>\n",
       "    <tr>\n",
       "      <th>Heart rate</th>\n",
       "      <td>20000.0</td>\n",
       "      <td>79.912200</td>\n",
       "      <td>11.808279</td>\n",
       "      <td>60.0</td>\n",
       "      <td>70.0</td>\n",
       "      <td>80.0</td>\n",
       "      <td>90.0</td>\n",
       "      <td>100.0</td>\n",
       "    </tr>\n",
       "    <tr>\n",
       "      <th>Daily steps</th>\n",
       "      <td>20000.0</td>\n",
       "      <td>10536.900000</td>\n",
       "      <td>5752.729186</td>\n",
       "      <td>1000.0</td>\n",
       "      <td>6000.0</td>\n",
       "      <td>11000.0</td>\n",
       "      <td>16000.0</td>\n",
       "      <td>20000.0</td>\n",
       "    </tr>\n",
       "    <tr>\n",
       "      <th>Physical activity</th>\n",
       "      <td>20000.0</td>\n",
       "      <td>90.069750</td>\n",
       "      <td>52.317283</td>\n",
       "      <td>0.0</td>\n",
       "      <td>45.0</td>\n",
       "      <td>91.0</td>\n",
       "      <td>135.0</td>\n",
       "      <td>180.0</td>\n",
       "    </tr>\n",
       "    <tr>\n",
       "      <th>Height</th>\n",
       "      <td>20000.0</td>\n",
       "      <td>174.865900</td>\n",
       "      <td>14.719903</td>\n",
       "      <td>150.0</td>\n",
       "      <td>162.0</td>\n",
       "      <td>175.0</td>\n",
       "      <td>188.0</td>\n",
       "      <td>200.0</td>\n",
       "    </tr>\n",
       "    <tr>\n",
       "      <th>Weight</th>\n",
       "      <td>20000.0</td>\n",
       "      <td>74.891850</td>\n",
       "      <td>14.733839</td>\n",
       "      <td>50.0</td>\n",
       "      <td>62.0</td>\n",
       "      <td>75.0</td>\n",
       "      <td>88.0</td>\n",
       "      <td>100.0</td>\n",
       "    </tr>\n",
       "    <tr>\n",
       "      <th>Average screen time</th>\n",
       "      <td>20000.0</td>\n",
       "      <td>5.519885</td>\n",
       "      <td>2.606305</td>\n",
       "      <td>1.0</td>\n",
       "      <td>3.3</td>\n",
       "      <td>5.5</td>\n",
       "      <td>7.8</td>\n",
       "      <td>10.0</td>\n",
       "    </tr>\n",
       "  </tbody>\n",
       "</table>\n",
       "</div>"
      ],
      "text/plain": [
       "                       count          mean          std     min     25%  \\\n",
       "Age                  20000.0     31.422800     8.103717    18.0    24.0   \n",
       "Sleep duration       20000.0      6.998245     1.731723     4.0     5.5   \n",
       "Sleep quality        20000.0      2.997250     1.412283     1.0     2.0   \n",
       "Stress level         20000.0      2.993750     1.407235     1.0     2.0   \n",
       "Heart rate           20000.0     79.912200    11.808279    60.0    70.0   \n",
       "Daily steps          20000.0  10536.900000  5752.729186  1000.0  6000.0   \n",
       "Physical activity    20000.0     90.069750    52.317283     0.0    45.0   \n",
       "Height               20000.0    174.865900    14.719903   150.0   162.0   \n",
       "Weight               20000.0     74.891850    14.733839    50.0    62.0   \n",
       "Average screen time  20000.0      5.519885     2.606305     1.0     3.3   \n",
       "\n",
       "                         50%      75%      max  \n",
       "Age                     31.0     39.0     45.0  \n",
       "Sleep duration           7.0      8.5     10.0  \n",
       "Sleep quality            3.0      4.0      5.0  \n",
       "Stress level             3.0      4.0      5.0  \n",
       "Heart rate              80.0     90.0    100.0  \n",
       "Daily steps          11000.0  16000.0  20000.0  \n",
       "Physical activity       91.0    135.0    180.0  \n",
       "Height                 175.0    188.0    200.0  \n",
       "Weight                  75.0     88.0    100.0  \n",
       "Average screen time      5.5      7.8     10.0  "
      ]
     },
     "execution_count": 10,
     "metadata": {},
     "output_type": "execute_result"
    }
   ],
   "source": [
    "df.describe().T"
   ]
  },
  {
   "cell_type": "code",
   "execution_count": 11,
   "metadata": {},
   "outputs": [
    {
     "data": {
      "text/plain": [
       "Gender                         0\n",
       "Age                            0\n",
       "Sleep duration                 0\n",
       "Sleep quality                  0\n",
       "Stress level                   0\n",
       "Blood pressure                 0\n",
       "Heart rate                     0\n",
       "Daily steps                    0\n",
       "Physical activity              0\n",
       "Height                         0\n",
       "Weight                         0\n",
       "Sleep disorder                 0\n",
       "Wake up during night           0\n",
       "Feel sleepy during day         0\n",
       "Caffeine consumption           0\n",
       "Alcohol consumption            0\n",
       "Smoking                        0\n",
       "Medical issue                  0\n",
       "Ongoing medication             0\n",
       "Smart device before bed        0\n",
       "Average screen time            0\n",
       "Blue-light filter              0\n",
       "Discomfort Eye-strain          0\n",
       "Redness in eye                 0\n",
       "Itchiness/Irritation in eye    0\n",
       "Dry Eye Disease                0\n",
       "dtype: int64"
      ]
     },
     "execution_count": 11,
     "metadata": {},
     "output_type": "execute_result"
    }
   ],
   "source": [
    "df.isnull().sum()"
   ]
  },
  {
   "cell_type": "code",
   "execution_count": 12,
   "metadata": {},
   "outputs": [
    {
     "data": {
      "text/plain": [
       "np.int64(0)"
      ]
     },
     "execution_count": 12,
     "metadata": {},
     "output_type": "execute_result"
    }
   ],
   "source": [
    "df.duplicated().sum()"
   ]
  },
  {
   "cell_type": "code",
   "execution_count": 13,
   "metadata": {},
   "outputs": [
    {
     "data": {
      "text/plain": [
       "Gender                            2\n",
       "Age                              28\n",
       "Sleep duration                   61\n",
       "Sleep quality                     5\n",
       "Stress level                      5\n",
       "Blood pressure                 1581\n",
       "Heart rate                       41\n",
       "Daily steps                      20\n",
       "Physical activity               181\n",
       "Height                           51\n",
       "Weight                           51\n",
       "Sleep disorder                    2\n",
       "Wake up during night              2\n",
       "Feel sleepy during day            2\n",
       "Caffeine consumption              2\n",
       "Alcohol consumption               2\n",
       "Smoking                           2\n",
       "Medical issue                     2\n",
       "Ongoing medication                2\n",
       "Smart device before bed           2\n",
       "Average screen time              91\n",
       "Blue-light filter                 2\n",
       "Discomfort Eye-strain             2\n",
       "Redness in eye                    2\n",
       "Itchiness/Irritation in eye       2\n",
       "Dry Eye Disease                   2\n",
       "dtype: int64"
      ]
     },
     "execution_count": 13,
     "metadata": {},
     "output_type": "execute_result"
    }
   ],
   "source": [
    "df.nunique()"
   ]
  },
  {
   "cell_type": "markdown",
   "metadata": {},
   "source": [
    "## Data Preprocessing"
   ]
  },
  {
   "cell_type": "code",
   "execution_count": 14,
   "metadata": {},
   "outputs": [
    {
     "name": "stdout",
     "output_type": "stream",
     "text": [
      "       Gender  Age  Sleep duration  Sleep quality  Stress level  \\\n",
      "0           0   24             9.5              2             1   \n",
      "1           1   39             9.6              2             3   \n",
      "2           0   45             5.4              1             5   \n",
      "3           0   45             5.4              4             5   \n",
      "4           0   42             5.7              3             2   \n",
      "...       ...  ...             ...            ...           ...   \n",
      "19995       1   26             9.4              2             3   \n",
      "19996       0   39             7.3              3             4   \n",
      "19997       0   20             8.0              5             3   \n",
      "19998       1   38             4.5              3             3   \n",
      "19999       1   37             5.0              5             3   \n",
      "\n",
      "       Blood pressure  Heart rate  Daily steps  Physical activity  Height  \\\n",
      "0                1176          67         3000                 31     161   \n",
      "1                 252          60        12000                 74     164   \n",
      "2                1075          95        12000                 93     179   \n",
      "3                 340          78        19000                 32     160   \n",
      "4                1557          72         4000                173     179   \n",
      "...               ...         ...          ...                ...     ...   \n",
      "19995             996          91        20000                 88     200   \n",
      "19996              46          65         2000                 53     195   \n",
      "19997             747          78        10000                 17     186   \n",
      "19998            1126          60         3000                115     170   \n",
      "19999            1487          73        13000                 57     188   \n",
      "\n",
      "       ...  Smoking  Medical issue  Ongoing medication  \\\n",
      "0      ...        0              1                   1   \n",
      "1      ...        0              1                   1   \n",
      "2      ...        0              0                   0   \n",
      "3      ...        0              1                   0   \n",
      "4      ...        0              1                   0   \n",
      "...    ...      ...            ...                 ...   \n",
      "19995  ...        1              1                   1   \n",
      "19996  ...        0              1                   1   \n",
      "19997  ...        1              1                   0   \n",
      "19998  ...        1              0                   1   \n",
      "19999  ...        0              1                   1   \n",
      "\n",
      "       Smart device before bed  Average screen time  Blue-light filter  \\\n",
      "0                            0                  8.7                  0   \n",
      "1                            0                  9.6                  1   \n",
      "2                            1                  4.0                  0   \n",
      "3                            0                  7.6                  0   \n",
      "4                            0                  3.5                  0   \n",
      "...                        ...                  ...                ...   \n",
      "19995                        1                  3.8                  0   \n",
      "19996                        0                  3.8                  0   \n",
      "19997                        0                  8.4                  0   \n",
      "19998                        0                  2.2                  0   \n",
      "19999                        1                  4.2                  1   \n",
      "\n",
      "       Discomfort Eye-strain  Redness in eye  Itchiness/Irritation in eye  \\\n",
      "0                          1               1                            0   \n",
      "1                          0               0                            1   \n",
      "2                          1               0                            0   \n",
      "3                          1               0                            1   \n",
      "4                          1               1                            0   \n",
      "...                      ...             ...                          ...   \n",
      "19995                      1               0                            1   \n",
      "19996                      0               1                            0   \n",
      "19997                      0               1                            0   \n",
      "19998                      0               0                            1   \n",
      "19999                      0               0                            0   \n",
      "\n",
      "       Dry Eye Disease  \n",
      "0                    1  \n",
      "1                    1  \n",
      "2                    0  \n",
      "3                    0  \n",
      "4                    1  \n",
      "...                ...  \n",
      "19995                1  \n",
      "19996                1  \n",
      "19997                0  \n",
      "19998                1  \n",
      "19999                0  \n",
      "\n",
      "[20000 rows x 26 columns]\n"
     ]
    }
   ],
   "source": [
    "# Label encoding\n",
    "\n",
    "from sklearn.preprocessing import LabelEncoder\n",
    "\n",
    "label_encoders = {}\n",
    "for col in df.select_dtypes(include=['object']).columns:\n",
    "    le = LabelEncoder()\n",
    "    df[col] = le.fit_transform(df[col])\n",
    "    label_encoders[col] = le  # Store encoder for inverse transformation if needed\n",
    "\n",
    "print(df)"
   ]
  },
  {
   "cell_type": "code",
   "execution_count": 16,
   "metadata": {},
   "outputs": [],
   "source": [
    "y=df[\"Dry Eye Disease\"]\n",
    "X=df.drop(\"Dry Eye Disease\",axis=1)"
   ]
  },
  {
   "cell_type": "code",
   "execution_count": 17,
   "metadata": {},
   "outputs": [],
   "source": [
    "# Train test and split\n",
    "\n",
    "from sklearn.model_selection import train_test_split\n",
    "\n",
    "X_train, X_test, y_train, y_test = train_test_split(X, y, test_size=0.2, random_state=42)"
   ]
  },
  {
   "cell_type": "markdown",
   "metadata": {},
   "source": [
    "## Model Building"
   ]
  },
  {
   "cell_type": "code",
   "execution_count": 18,
   "metadata": {},
   "outputs": [],
   "source": [
    "from sklearn.linear_model import LogisticRegression, RidgeClassifier\n",
    "from sklearn.ensemble import RandomForestClassifier, AdaBoostClassifier, GradientBoostingClassifier, BaggingClassifier\n",
    "from sklearn.tree import DecisionTreeClassifier\n",
    "from sklearn.svm import SVC\n",
    "from xgboost import XGBClassifier\n",
    "from sklearn.metrics import accuracy_score\n",
    "from sklearn.metrics import r2_score"
   ]
  },
  {
   "cell_type": "code",
   "execution_count": 19,
   "metadata": {},
   "outputs": [],
   "source": [
    "logistic_clf = LogisticRegression()\n",
    "ridge_clf = RidgeClassifier()\n",
    "xgboost_clf = XGBClassifier()\n",
    "random_forest_clf = RandomForestClassifier()\n",
    "ada_boost_clf = AdaBoostClassifier()\n",
    "grad_boost_clf = GradientBoostingClassifier()\n",
    "bagging_clf = BaggingClassifier()\n",
    "decision_tree_clf = DecisionTreeClassifier()\n",
    "svm_clf = SVC()"
   ]
  },
  {
   "cell_type": "code",
   "execution_count": 20,
   "metadata": {},
   "outputs": [
    {
     "name": "stdout",
     "output_type": "stream",
     "text": [
      "[0.67325, 0.68775, 0.655, 0.69675, 0.6935, 0.701, 0.6085, 0.56475, 0.67325]\n"
     ]
    }
   ],
   "source": [
    "model_li = [logistic_clf, ridge_clf, xgboost_clf, random_forest_clf, \n",
    "            ada_boost_clf, grad_boost_clf, bagging_clf, decision_tree_clf, svm_clf]\n",
    "\n",
    "scores = []\n",
    "for model in model_li:\n",
    "    model.fit(X_train, y_train)\n",
    "    scores.append(accuracy_score(y_test, model.predict(X_test)))\n",
    "\n",
    "print(scores)"
   ]
  }
 ],
 "metadata": {
  "kernelspec": {
   "display_name": "testenv",
   "language": "python",
   "name": "python3"
  },
  "language_info": {
   "codemirror_mode": {
    "name": "ipython",
    "version": 3
   },
   "file_extension": ".py",
   "mimetype": "text/x-python",
   "name": "python",
   "nbconvert_exporter": "python",
   "pygments_lexer": "ipython3",
   "version": "3.12.8"
  }
 },
 "nbformat": 4,
 "nbformat_minor": 2
}
